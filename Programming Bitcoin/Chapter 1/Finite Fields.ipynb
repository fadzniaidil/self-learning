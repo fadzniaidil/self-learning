{
 "cells": [
  {
   "cell_type": "code",
   "execution_count": null,
   "id": "165f3bd8",
   "metadata": {},
   "outputs": [],
   "source": [
    "# Finite Field = a set of number and two operation (+ & *) that :\n",
    "#     => a + b & a . b are set\n",
    "#     => 0 exists & has property a + 0 = a (additive identity)\n",
    "#     => 1 exists & has property a . 1 = a (multiplicative identity)\n",
    "#     => -a in set a +(-a) = 0 (inverse additive)\n",
    "#     => a in set but not 0 (inverse multiplication)"
   ]
  },
  {
   "cell_type": "code",
   "execution_count": 9,
   "id": "6b990a9a",
   "metadata": {},
   "outputs": [],
   "source": [
    "class FieldElement:\n",
    "    def __init__(self, num, prime):\n",
    "        if num >= prime or num < 0: \n",
    "            error = 'Num {} not in field range 0 to {}'.format(num, prime - 1)\n",
    "            raise ValueError(error)\n",
    "        self.num = num \n",
    "        self.prime = prime\n",
    "        \n",
    "    def __repr__(self):\n",
    "         return 'FieldElement_{}({})'.format(self.prime, self.num)\n",
    "        \n",
    "    def __eq__(self, other):\n",
    "        if other is None:\n",
    "            return False\n",
    "        return self.num == other.num and self.prime == other.prime\n",
    "\n",
    "    def __ne__(self,other):\n",
    "        return not(self == other)\n",
    "\n",
    "\n",
    "    def __add__(self,other):\n",
    "        if self.prime != other.prime:\n",
    "            raise TypeError('Cannot add two number in different fields')\n",
    "        num = (self.num+other.num) % self.prime\n",
    "        return self.__class__(num,self.prime)\n",
    "    \n",
    "\n",
    "    def __sub__(self,other):\n",
    "        if self.prime != other.prime:\n",
    "            raise TypeError('Cannot subtract two number in different fields')\n",
    "        num = (self.num-other.num) % self.prime\n",
    "        return self.__class__(num,self.prime)\n",
    "    \n",
    "    def __mul__(self,other):\n",
    "        num = (self.num*other.num)%self.prime\n",
    "        return self.__class__(num,self.prime)\n",
    "    \n",
    "    def __pow__(self,exponent):\n",
    "        num = pow(self.num, exponent,self.prime)\n",
    "        return self.__class__(num, self.prime)\n",
    "    \n",
    "    def __truediv__(self,other):\n",
    "        num = self.num * pow(other.num,self.prime - 2,self.prime) % self.prime\n",
    "        return self.__class__(num,self.prime)\n",
    "        \n",
    "        "
   ]
  },
  {
   "cell_type": "code",
   "execution_count": 11,
   "id": "7a84b80c",
   "metadata": {},
   "outputs": [
    {
     "name": "stdout",
     "output_type": "stream",
     "text": [
      "True\n",
      "False\n",
      "False\n",
      "True\n"
     ]
    }
   ],
   "source": [
    "a = FieldElement(3, 13)\n",
    "b = FieldElement(1, 13)\n",
    "c = FieldElement(6, 13)\n",
    "print(a != b)\n",
    "print(a != a)\n",
    "print(a+b==c)\n",
    "print(a**3==b)\n",
    "\n",
    "\n"
   ]
  },
  {
   "cell_type": "code",
   "execution_count": 21,
   "id": "991b63e0",
   "metadata": {},
   "outputs": [
    {
     "data": {
      "text/plain": [
       "13"
      ]
     },
     "execution_count": 21,
     "metadata": {},
     "output_type": "execute_result"
    }
   ],
   "source": [
    "# (44 + 33) % 57\n",
    "# (9 - 29) % 57\n",
    "# ( 17 + 42 + 49) % 57\n",
    "# (52 - 30 - 38) % 57\n",
    "# (95 * 45 * 31) % 97\n",
    "# (17 * 13 * 19 * 44) % 97\n",
    "# ((12**7)*(77**49)) % 97\n",
    "# 3*(pow(24,31-2)) % 31\n",
    "# pow(17,31-4) % 31\n",
    "pow(4,31-5)*11 % 31"
   ]
  },
  {
   "cell_type": "code",
   "execution_count": null,
   "id": "d1be6ae0",
   "metadata": {},
   "outputs": [],
   "source": []
  }
 ],
 "metadata": {
  "kernelspec": {
   "display_name": "Python 3 (ipykernel)",
   "language": "python",
   "name": "python3"
  },
  "language_info": {
   "codemirror_mode": {
    "name": "ipython",
    "version": 3
   },
   "file_extension": ".py",
   "mimetype": "text/x-python",
   "name": "python",
   "nbconvert_exporter": "python",
   "pygments_lexer": "ipython3",
   "version": "3.10.2"
  }
 },
 "nbformat": 4,
 "nbformat_minor": 5
}
