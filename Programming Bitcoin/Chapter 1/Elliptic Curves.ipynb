{
 "cells": [
  {
   "cell_type": "code",
   "execution_count": 8,
   "id": "5dec1eff",
   "metadata": {},
   "outputs": [],
   "source": [
    "class Point:\n",
    "    def __init__(self,x,y,a,b):\n",
    "        self.a = a\n",
    "        self.b = b\n",
    "        self.x = x\n",
    "        self.y = y\n",
    "        if self.y**2 != self.x**3 + a *x+b:\n",
    "            raise ValueError('({}, {}) is not on curve'.format(x,y))\n",
    "        else:\n",
    "            print('Yes')\n",
    "    \n",
    "    def __eq__(self,other):\n",
    "        return self.x == other.x and self.y == other.y and self.a == other.a and self.b == other.b\n",
    "    \n",
    "    def __ne__(self,other):\n",
    "        return not(self == other)\n",
    "    \n",
    "    def __add__(self,other):\n",
    "        if self.a != other.a or self.b != other.b:\n",
    "            raise TypeError('Points {},{} are not the same curve'.format(self,other))\n",
    "        if self.x is None:\n",
    "            return other\n",
    "        if other.x is None:\n",
    "            return self\n"
   ]
  },
  {
   "cell_type": "code",
   "execution_count": 9,
   "id": "ddd0054f",
   "metadata": {},
   "outputs": [
    {
     "name": "stdout",
     "output_type": "stream",
     "text": [
      "Yes\n",
      "Yes\n"
     ]
    }
   ],
   "source": [
    "# p1 = Point(-1,-1,5,-7)\n",
    "# p2 = Point(-1,-2,5,7)\n",
    "# p1 = Point(2,4,5,7)\n",
    "p2 = Point(-1,-1,5,7)\n",
    "p3 = Point(18,77,5,7)\n",
    "# p4 = Point(5,7,5,7)"
   ]
  }
 ],
 "metadata": {
  "kernelspec": {
   "display_name": "Python 3 (ipykernel)",
   "language": "python",
   "name": "python3"
  },
  "language_info": {
   "codemirror_mode": {
    "name": "ipython",
    "version": 3
   },
   "file_extension": ".py",
   "mimetype": "text/x-python",
   "name": "python",
   "nbconvert_exporter": "python",
   "pygments_lexer": "ipython3",
   "version": "3.10.2"
  }
 },
 "nbformat": 4,
 "nbformat_minor": 5
}
